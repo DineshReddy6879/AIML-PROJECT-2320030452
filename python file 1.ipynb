{
  "nbformat": 4,
  "nbformat_minor": 0,
  "metadata": {
    "colab": {
      "provenance": []
    },
    "kernelspec": {
      "name": "python3",
      "display_name": "Python 3"
    },
    "language_info": {
      "name": "python"
    }
  },
  "cells": [
    {
      "cell_type": "code",
      "execution_count": 1,
      "metadata": {
        "colab": {
          "base_uri": "https://localhost:8080/"
        },
        "id": "8vDLfF94_e-N",
        "outputId": "648f618b-c240-49a4-fccf-31ff630f2322"
      },
      "outputs": [
        {
          "output_type": "stream",
          "name": "stdout",
          "text": [
            "Following is Breadth First Traversal (starting from vertex 2)\n",
            "2 0 3 1 "
          ]
        }
      ],
      "source": [
        "from collections import defaultdict\n",
        "class Graph:\n",
        "    # Breadth first search\n",
        "    def __init__(self):\n",
        "        self.graph = defaultdict(list)\n",
        "\n",
        "    def addEdge(self, u, v):\n",
        "        self.graph[u].append(v)\n",
        "\n",
        "    def BFS(self, s):\n",
        "        visited = [False] * (max(self.graph) + 1)\n",
        "        queue = []\n",
        "        queue.append(s)\n",
        "        visited[s] = True\n",
        "\n",
        "        while queue:\n",
        "            s = queue.pop(0)\n",
        "            print(s, end=\" \")\n",
        "\n",
        "            for i in self.graph[s]:\n",
        "                if not visited[i]:\n",
        "                    queue.append(i)\n",
        "                    visited[i] = True\n",
        "\n",
        "if __name__ == '__main__':\n",
        "    g = Graph()\n",
        "    g.addEdge(0, 1)\n",
        "    g.addEdge(0, 2)\n",
        "    g.addEdge(1, 2)\n",
        "    g.addEdge(2, 0)\n",
        "    g.addEdge(2, 3)\n",
        "    g.addEdge(3, 3)\n",
        "\n",
        "    print(\"Following is Breadth First Traversal (starting from vertex 2)\")\n",
        "    g.BFS(2)"
      ]
    },
    {
      "cell_type": "code",
      "source": [
        "from collections import defaultdict\n",
        "\n",
        "class Graph:\n",
        "    def __init__(self):\n",
        "        self.graph = defaultdict(list)\n",
        "\n",
        "    def addEdge(self, u, v):\n",
        "        self.graph[u].append(v)\n",
        "\n",
        "    def DFSUtil(self, v, visited):\n",
        "        visited.add(v)\n",
        "        print(v, end=' ')\n",
        "\n",
        "        for neighbour in self.graph[v]:\n",
        "            if neighbour not in visited:\n",
        "                self.DFSUtil(neighbour, visited)\n",
        "\n",
        "    def DFS(self, v):\n",
        "        visited = set()\n",
        "        self.DFSUtil(v, visited)\n",
        "\n",
        "if __name__ == \"__main__\":\n",
        "    g = Graph()\n",
        "    g.addEdge(0, 1)\n",
        "    g.addEdge(0, 2)\n",
        "    g.addEdge(1, 2)\n",
        "    g.addEdge(2, 0)\n",
        "    g.addEdge(2, 3)\n",
        "    g.addEdge(3, 3)\n",
        "\n",
        "    print(\"Following is Depth First Traversal (starting from vertex 2)\")\n",
        "    g.DFS(2)\n"
      ],
      "metadata": {
        "colab": {
          "base_uri": "https://localhost:8080/"
        },
        "id": "UDF2aRNX_s2M",
        "outputId": "975d8fed-55cb-434b-dc25-eff1d8af9d0f"
      },
      "execution_count": 2,
      "outputs": [
        {
          "output_type": "stream",
          "name": "stdout",
          "text": [
            "Following is Depth First Traversal (starting from vertex 2)\n",
            "2 0 1 3 "
          ]
        }
      ]
    },
    {
      "cell_type": "code",
      "source": [
        "import heapq\n",
        "\n",
        "class Graph:\n",
        "    def __init__(self):\n",
        "        self.graph = {}\n",
        "\n",
        "    def add_edge(self, node, neighbor, cost):\n",
        "        if node not in self.graph:\n",
        "            self.graph[node] = []\n",
        "        self.graph[node].append((neighbor, cost))\n",
        "\n",
        "    def best_first_search(self, start, goal, heuristic):\n",
        "        open_list = []\n",
        "        heapq.heappush(open_list, (heuristic[start], start))\n",
        "        visited = set()\n",
        "\n",
        "        while open_list:\n",
        "            current_cost, current_node = heapq.heappop(open_list)\n",
        "\n",
        "            if current_node == goal:\n",
        "                print(f\"Goal '{goal}' reached.\")\n",
        "                return\n",
        "\n",
        "            if current_node not in visited:\n",
        "                visited.add(current_node)\n",
        "                print(f\"Visiting node: {current_node}\")\n",
        "\n",
        "                for neighbor, cost in self.graph.get(current_node, []):\n",
        "                    if neighbor not in visited:\n",
        "                        total_cost = heuristic[neighbor]\n",
        "                        heapq.heappush(open_list, (total_cost, neighbor))\n",
        "\n",
        "        print(f\"Goal '{goal}' not reachable.\")\n",
        "        return\n",
        "\n",
        "if __name__ == \"__main__\":\n",
        "    g = Graph()\n",
        "    g.add_edge('A', 'B', 1)\n",
        "    g.add_edge('A', 'C', 4)\n",
        "    g.add_edge('B', 'D', 2)\n",
        "    g.add_edge('C', 'D', 5)\n",
        "    g.add_edge('D', 'E', 3)\n",
        "    g.add_edge('B', 'E', 6)\n",
        "\n",
        "    heuristic = {\n",
        "        'A': 7,\n",
        "        'B': 6,\n",
        "        'C': 3,\n",
        "        'D': 2,\n",
        "        'E': 0\n",
        "    }\n",
        "\n",
        "    g.best_first_search('A', 'E', heuristic)\n"
      ],
      "metadata": {
        "colab": {
          "base_uri": "https://localhost:8080/"
        },
        "id": "7gQh-VqS_v56",
        "outputId": "9031ca2a-3be1-498d-94e1-95e77f72a9fa"
      },
      "execution_count": 3,
      "outputs": [
        {
          "output_type": "stream",
          "name": "stdout",
          "text": [
            "Visiting node: A\n",
            "Visiting node: C\n",
            "Visiting node: D\n",
            "Goal 'E' reached.\n"
          ]
        }
      ]
    },
    {
      "cell_type": "code",
      "source": [
        "import heapq\n",
        "\n",
        "class Graph:\n",
        "    def __init__(self):\n",
        "        self.graph = {}\n",
        "\n",
        "    def add_edge(self, node, neighbor, cost):\n",
        "        if node not in self.graph:\n",
        "            self.graph[node] = []\n",
        "        self.graph[node].append((neighbor, cost))\n",
        "\n",
        "    def a_star_search(self, start, goal, heuristic):\n",
        "        open_list = []\n",
        "        heapq.heappush(open_list, (0, start))\n",
        "\n",
        "        g_cost = {start: 0}\n",
        "        parent = {start: None}\n",
        "        visited = set()\n",
        "\n",
        "        while open_list:\n",
        "            current_f_cost, current_node = heapq.heappop(open_list)\n",
        "\n",
        "            if current_node == goal:\n",
        "                return self.reconstruct_path(parent, goal)\n",
        "\n",
        "            if current_node not in visited:\n",
        "                visited.add(current_node)\n",
        "\n",
        "                for neighbor, cost in self.graph.get(current_node, []):\n",
        "                    tentative_g_cost = g_cost[current_node] + cost\n",
        "\n",
        "                    if neighbor not in g_cost or tentative_g_cost < g_cost[neighbor]:\n",
        "                        g_cost[neighbor] = tentative_g_cost\n",
        "                        f_cost = tentative_g_cost + heuristic[neighbor]\n",
        "                        heapq.heappush(open_list, (f_cost, neighbor))\n",
        "                        parent[neighbor] = current_node\n",
        "\n",
        "        return None\n",
        "\n",
        "    def reconstruct_path(self, parent, goal):\n",
        "        path = []\n",
        "        current = goal\n",
        "        while current:\n",
        "            path.append(current)\n",
        "            current = parent[current]\n",
        "        return path[::-1]\n",
        "\n",
        "if __name__ == \"__main__\":\n",
        "    g = Graph()\n",
        "    g.add_edge('A', 'B', 1)\n",
        "    g.add_edge('A', 'C', 4)\n",
        "    g.add_edge('B', 'D', 2)\n",
        "    g.add_edge('C', 'D', 5)\n",
        "    g.add_edge('D', 'E', 3)\n",
        "    g.add_edge('B', 'E', 6)\n",
        "\n",
        "    heuristic = {\n",
        "        'A': 7,\n",
        "        'B': 6,\n",
        "        'C': 2,\n",
        "        'D': 1,\n",
        "        'E': 0\n",
        "    }\n",
        "\n",
        "    path = g.a_star_search('A', 'E', heuristic)\n",
        "\n",
        "    if path:\n",
        "        print(\"Path found:\", \" -> \".join(path))\n",
        "    else:\n",
        "        print(\"No path found\")\n"
      ],
      "metadata": {
        "colab": {
          "base_uri": "https://localhost:8080/"
        },
        "id": "d15Zro7OAecf",
        "outputId": "6683f1f4-94ee-407a-b647-f4bd45d3be46"
      },
      "execution_count": 4,
      "outputs": [
        {
          "output_type": "stream",
          "name": "stdout",
          "text": [
            "Path found: A -> B -> D -> E\n"
          ]
        }
      ]
    },
    {
      "cell_type": "code",
      "source": [
        "numbers = [3, 1, 4, 1, 5, 9, 2, 6, 5, 3, 5]\n",
        "\n",
        "min_value = min(numbers)\n",
        "max_value = max(numbers)\n",
        "\n",
        "print(f\"Minimum value: {min_value}\")\n",
        "print(f\"Maximum value: {max_value}\")"
      ],
      "metadata": {
        "colab": {
          "base_uri": "https://localhost:8080/"
        },
        "id": "SV_WrI2uCh3m",
        "outputId": "044fa3ec-f30d-43eb-9781-0049b4e20198"
      },
      "execution_count": 5,
      "outputs": [
        {
          "output_type": "stream",
          "name": "stdout",
          "text": [
            "Minimum value: 1\n",
            "Maximum value: 9\n"
          ]
        }
      ]
    },
    {
      "cell_type": "code",
      "source": [
        "import math\n",
        "\n",
        "INF = math.inf\n",
        "\n",
        "def alpha_beta_pruning(depth, node_index, is_maximizing_player, values, alpha, beta, max_depth):\n",
        "    if depth == max_depth:\n",
        "        return values[node_index]\n",
        "\n",
        "    if is_maximizing_player:\n",
        "        best = -INF\n",
        "        for i in range(2):\n",
        "            val = alpha_beta_pruning(depth + 1, node_index * 2 + i, False, values, alpha, beta, max_depth)\n",
        "            best = max(best, val)\n",
        "            alpha = max(alpha, best)\n",
        "            if beta <= alpha:\n",
        "                break\n",
        "        return best\n",
        "    else:\n",
        "        best = INF\n",
        "        for i in range(2):\n",
        "            val = alpha_beta_pruning(depth + 1, node_index * 2 + i, True, values, alpha, beta, max_depth)\n",
        "            best = min(best, val)\n",
        "            beta = min(beta, best)\n",
        "            if beta <= alpha:\n",
        "                break\n",
        "        return best\n",
        "\n",
        "if __name__ == \"__main__\":\n",
        "    values = [3, 5, 6, 9, 1, 2, 0, -1]\n",
        "    max_depth = math.log2(len(values))\n",
        "    result = alpha_beta_pruning(0, 0, True, values, -INF, INF, int(max_depth))\n",
        "    print(f\"The optimal value is: {result}\")\n"
      ],
      "metadata": {
        "colab": {
          "base_uri": "https://localhost:8080/"
        },
        "id": "QjmMK2YMCmsc",
        "outputId": "70e22756-03c7-4c8e-8730-89c9bfd17143"
      },
      "execution_count": 6,
      "outputs": [
        {
          "output_type": "stream",
          "name": "stdout",
          "text": [
            "The optimal value is: 5\n"
          ]
        }
      ]
    },
    {
      "cell_type": "code",
      "source": [
        "from collections import deque\n",
        "\n",
        "def bidirectional_search(graph, start, goal):\n",
        "    if start == goal:\n",
        "        return [start]\n",
        "\n",
        "\n",
        "    forward_queue = deque([start])\n",
        "    backward_queue = deque([goal])\n",
        "\n",
        "\n",
        "    forward_paths = {start: [start]}\n",
        "    backward_paths = {goal: [goal]}\n",
        "\n",
        "\n",
        "    forward_visited = set([start])\n",
        "    backward_visited = set([goal])\n",
        "\n",
        "    while forward_queue and backward_queue:\n",
        "\n",
        "        current_forward = forward_queue.popleft()\n",
        "        for neighbor in graph[current_forward]:\n",
        "            if neighbor in backward_visited:\n",
        "\n",
        "                return forward_paths[current_forward] + backward_paths[neighbor][::-1][1:]\n",
        "            if neighbor not in forward_visited:\n",
        "                forward_visited.add(neighbor)\n",
        "                forward_queue.append(neighbor)\n",
        "                forward_paths[neighbor] = forward_paths[current_forward] + [neighbor]\n",
        "        current_backward = backward_queue.popleft()\n",
        "        for neighbor in graph[current_backward]:\n",
        "            if neighbor in forward_visited:\n",
        "                return backward_paths[current_backward] + forward_paths[neighbor][::-1][1:]\n",
        "            if neighbor not in backward_visited:\n",
        "                backward_visited.add(neighbor)\n",
        "                backward_queue.append(neighbor)\n",
        "                backward_paths[neighbor] = backward_paths[current_backward] + [neighbor]\n",
        "\n",
        "    return None\n",
        "graph = {\n",
        "    'A': ['B', 'C'],\n",
        "    'B': ['A', 'D', 'E'],\n",
        "    'C': ['A', 'F'],\n",
        "    'D': ['B'],\n",
        "    'E': ['B', 'F'],\n",
        "    'F': ['C', 'E']\n",
        "}\n",
        "\n",
        "start = 'A'\n",
        "goal = 'F'\n",
        "path = bidirectional_search(graph, start, goal)\n",
        "\n",
        "print(f\" {start} to {goal}: {path}\")"
      ],
      "metadata": {
        "colab": {
          "base_uri": "https://localhost:8080/"
        },
        "id": "m5vA0nuCCsei",
        "outputId": "e5fb1416-e052-42a2-fb87-6591f8a6eecf"
      },
      "execution_count": 7,
      "outputs": [
        {
          "output_type": "stream",
          "name": "stdout",
          "text": [
            " A to F: ['F', 'A']\n"
          ]
        }
      ]
    },
    {
      "cell_type": "code",
      "source": [
        "def dfs_limited(graph, node, goal, depth, visited):\n",
        "    if depth == 0:\n",
        "        if node == goal:\n",
        "            return [node]\n",
        "        else:\n",
        "            return None\n",
        "    if depth > 0:\n",
        "        visited.add(node)\n",
        "        path = None\n",
        "        for neighbor in graph[node]:\n",
        "            if neighbor not in visited:\n",
        "                result = dfs_limited(graph, neighbor, goal, depth - 1, visited)\n",
        "                if result:\n",
        "                    path = [node] + result\n",
        "                    break\n",
        "        return path\n",
        "    return None\n",
        "\n",
        "def iddfs(graph, start, goal):\n",
        "    depth = 0\n",
        "    while True:\n",
        "        visited = set()\n",
        "        path = dfs_limited(graph, start, goal, depth, visited)\n",
        "        if path:\n",
        "            return path\n",
        "        depth += 1\n",
        "graph = {\n",
        "    'A': ['B', 'C'],\n",
        "    'B': ['A', 'D', 'E'],\n",
        "    'C': ['A', 'F'],\n",
        "    'D': ['B'],\n",
        "    'E': ['B', 'F'],\n",
        "    'F': ['C', 'E']\n",
        "}\n",
        "\n",
        "start = 'A'\n",
        "goal = 'F'\n",
        "path = iddfs(graph, start, goal)\n",
        "\n",
        "print(f\"Path from {start} to {goal}: {path}\")"
      ],
      "metadata": {
        "colab": {
          "base_uri": "https://localhost:8080/"
        },
        "id": "KjtBIqS8Cxdz",
        "outputId": "f4788ed2-9d42-4757-81fc-87f5e069c778"
      },
      "execution_count": 8,
      "outputs": [
        {
          "output_type": "stream",
          "name": "stdout",
          "text": [
            "Path from A to F: ['A', 'C', 'F']\n"
          ]
        }
      ]
    },
    {
      "cell_type": "code",
      "source": [
        "import heapq\n",
        "\n",
        "def uniform_cost_search(graph, start, goal):\n",
        "    priority_queue = [(0, start)]  # (cost, node)\n",
        "    costs = {start: 0}\n",
        "    paths = {start: [start]}\n",
        "\n",
        "    while priority_queue:\n",
        "        current_cost, current_node = heapq.heappop(priority_queue)\n",
        "\n",
        "        if current_node == goal:\n",
        "            return paths[current_node]\n",
        "\n",
        "        for neighbor, weight in graph[current_node].items():\n",
        "            new_cost = current_cost + weight\n",
        "\n",
        "            if neighbor not in costs or new_cost < costs[neighbor]:\n",
        "                costs[neighbor] = new_cost\n",
        "                paths[neighbor] = paths[current_node] + [neighbor]\n",
        "                heapq.heappush(priority_queue, (new_cost, neighbor))\n",
        "\n",
        "    return None\n",
        "\n",
        "graph = {\n",
        "    'A': {'B': 1, 'C': 4},\n",
        "    'B': {'D': 2, 'E': 5},\n",
        "    'C': {'D': 1},\n",
        "    'D': {'E': 1},\n",
        "    'E': {}\n",
        "}\n",
        "\n",
        "start = 'A'\n",
        "goal = 'E'\n",
        "path = uniform_cost_search(graph, start, goal)\n",
        "\n",
        "print(f\"{start} to {goal}: {path}\")\n"
      ],
      "metadata": {
        "colab": {
          "base_uri": "https://localhost:8080/"
        },
        "id": "WdGBeAj2C3tX",
        "outputId": "91ef67b2-509e-456a-b13b-47577ac0de19"
      },
      "execution_count": 9,
      "outputs": [
        {
          "output_type": "stream",
          "name": "stdout",
          "text": [
            "A to E: ['A', 'B', 'D', 'E']\n"
          ]
        }
      ]
    }
  ]
}